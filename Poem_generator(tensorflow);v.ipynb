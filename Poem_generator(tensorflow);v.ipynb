{
  "cells": [
    {
      "cell_type": "markdown",
      "metadata": {
        "id": "view-in-github",
        "colab_type": "text"
      },
      "source": [
        "<a href=\"https://colab.research.google.com/github/KaitoEight/Ailamtho/blob/main/Poem_generator(tensorflow)%3Bv.ipynb\" target=\"_parent\"><img src=\"https://colab.research.google.com/assets/colab-badge.svg\" alt=\"Open In Colab\"/></a>"
      ]
    },
    {
      "cell_type": "markdown",
      "metadata": {
        "id": "srXC6pLGLwS6"
      },
      "source": [
        "## Setup"
      ]
    },
    {
      "cell_type": "markdown",
      "metadata": {
        "id": "WGyKZj3bzf9p"
      },
      "source": [
        "### Import TensorFlow and other libraries"
      ]
    },
    {
      "cell_type": "code",
      "execution_count": 1,
      "metadata": {
        "id": "yG_n40gFzf9s"
      },
      "outputs": [],
      "source": [
        "import tensorflow as tf\n",
        "\n",
        "import numpy as np\n",
        "import os\n",
        "import time\n",
        "\n",
        "gpus = tf.config.experimental.list_physical_devices('GPU')\n",
        "if gpus:\n",
        "    # Specify the GPU to be used (assuming you have one)\n",
        "    tf.config.experimental.set_visible_devices(gpus[0], 'GPU')\n",
        "    # Set memory growth to avoid allocation issues\n",
        "    tf.config.experimental.set_memory_growth(gpus[0], True)\n"
      ]
    },
    {
      "cell_type": "markdown",
      "metadata": {
        "id": "EHDoRoc5PKWz"
      },
      "source": [
        "### Download the dataset\n"
      ]
    },
    {
      "cell_type": "code",
      "execution_count": 2,
      "metadata": {
        "colab": {
          "base_uri": "https://localhost:8080/"
        },
        "id": "pD_55cOxLkAb",
        "outputId": "a30fda2b-7b7a-4bb8-ed02-f811ee9cba19"
      },
      "outputs": [
        {
          "output_type": "stream",
          "name": "stdout",
          "text": [
            "Mounted at /content/drive\n"
          ]
        }
      ],
      "source": [
        "from google.colab import drive\n",
        "drive.mount('/content/drive')"
      ]
    },
    {
      "cell_type": "code",
      "execution_count": 3,
      "metadata": {
        "colab": {
          "base_uri": "https://localhost:8080/"
        },
        "id": "v-6dP8qd_9pg",
        "outputId": "8a723bd6-1c07-41e6-aa1d-87a3f27ab449"
      },
      "outputs": [
        {
          "output_type": "stream",
          "name": "stdout",
          "text": [
            "Downloading data from file:///content/drive/MyDrive/vanhocvietnam/VNTQcorpus-small-cleaned.txt\n",
            "34980851/34980851 [==============================] - 1s 0us/step\n"
          ]
        }
      ],
      "source": [
        "path_to_file = tf.keras.utils.get_file('VNTQcorpus-small-cleaned.txt', 'file:///content/drive/MyDrive/vanhocvietnam/VNTQcorpus-small-cleaned.txt')"
      ]
    },
    {
      "cell_type": "markdown",
      "metadata": {
        "id": "UHjdCjDuSvX_"
      },
      "source": [
        "### Read the data\n",
        "\n",
        "First, look in the text:"
      ]
    },
    {
      "cell_type": "code",
      "execution_count": 4,
      "metadata": {
        "colab": {
          "base_uri": "https://localhost:8080/"
        },
        "id": "aavnuByVymwK",
        "outputId": "d524d7ac-7bcd-45c3-c599-8f836086e8b0"
      },
      "outputs": [
        {
          "output_type": "stream",
          "name": "stdout",
          "text": [
            "Length of text: 26087967 characters\n"
          ]
        }
      ],
      "source": [
        "# Read, then decode for py2 compat.\n",
        "text = open(path_to_file, 'rb').read().decode(encoding='utf-8')\n",
        "# length of text is the number of characters in it\n",
        "print(f'Length of text: {len(text)} characters')"
      ]
    },
    {
      "cell_type": "code",
      "execution_count": 5,
      "metadata": {
        "colab": {
          "base_uri": "https://localhost:8080/"
        },
        "id": "IlCgQBRVymwR",
        "outputId": "5dc93b60-99ae-432a-8814-55b594338c59"
      },
      "outputs": [
        {
          "output_type": "stream",
          "name": "stdout",
          "text": [
            "356 unique characters\n"
          ]
        }
      ],
      "source": [
        "# The unique characters in the file\n",
        "vocab = sorted(set(text))\n",
        "print(f'{len(vocab)} unique characters')"
      ]
    },
    {
      "cell_type": "markdown",
      "metadata": {
        "id": "rNnrKn_lL-IJ"
      },
      "source": [
        "## Process the text"
      ]
    },
    {
      "cell_type": "code",
      "execution_count": 6,
      "metadata": {
        "id": "6GMlCe3qzaL9"
      },
      "outputs": [],
      "source": [
        "ids_from_chars = tf.keras.layers.StringLookup(\n",
        "    vocabulary=list(vocab), mask_token=None)"
      ]
    },
    {
      "cell_type": "code",
      "execution_count": 7,
      "metadata": {
        "id": "kLRE6xpoHAor"
      },
      "outputs": [],
      "source": [
        "chars_from_ids = tf.keras.layers.StringLookup(\n",
        "    vocabulary=ids_from_chars.get_vocabulary(), invert=True, mask_token=None)"
      ]
    },
    {
      "cell_type": "code",
      "execution_count": 8,
      "metadata": {
        "id": "w5apvBDn9Ind"
      },
      "outputs": [],
      "source": [
        "def text_from_ids(ids):\n",
        "  return tf.strings.reduce_join(chars_from_ids(ids), axis=-1)"
      ]
    },
    {
      "cell_type": "markdown",
      "metadata": {
        "id": "bbmsf23Bymwe"
      },
      "source": [
        "### The prediction task"
      ]
    },
    {
      "cell_type": "code",
      "execution_count": 9,
      "metadata": {
        "colab": {
          "base_uri": "https://localhost:8080/"
        },
        "id": "UopbsKi88tm5",
        "outputId": "bab43c69-0136-44fa-e928-ac49f9833f04"
      },
      "outputs": [
        {
          "output_type": "execute_result",
          "data": {
            "text/plain": [
              "<tf.Tensor: shape=(26087967,), dtype=int64, numpy=array([  2,  28,  52, ..., 157,  58,   2])>"
            ]
          },
          "metadata": {},
          "execution_count": 9
        }
      ],
      "source": [
        "all_ids = ids_from_chars(tf.strings.unicode_split(text, 'UTF-8'))\n",
        "all_ids"
      ]
    },
    {
      "cell_type": "code",
      "execution_count": 10,
      "metadata": {
        "id": "qmxrYDCTy-eL"
      },
      "outputs": [],
      "source": [
        "ids_dataset = tf.data.Dataset.from_tensor_slices(all_ids)"
      ]
    },
    {
      "cell_type": "code",
      "execution_count": 11,
      "metadata": {
        "colab": {
          "base_uri": "https://localhost:8080/"
        },
        "id": "cjH5v45-yqqH",
        "outputId": "47f78618-1f7c-470f-a185-f548995201ad"
      },
      "outputs": [
        {
          "output_type": "stream",
          "name": "stdout",
          "text": [
            "\n",
            "\n",
            "P\n",
            "h\n",
            "ậ\n",
            "t\n",
            " \n",
            "v\n",
            "à\n",
            " \n",
            "Đ\n"
          ]
        }
      ],
      "source": [
        "for ids in ids_dataset.take(10):\n",
        "    print(chars_from_ids(ids).numpy().decode('utf-8'))"
      ]
    },
    {
      "cell_type": "code",
      "execution_count": 12,
      "metadata": {
        "id": "C-G2oaTxy6km"
      },
      "outputs": [],
      "source": [
        "seq_length = 100\n"
      ]
    },
    {
      "cell_type": "code",
      "execution_count": 13,
      "metadata": {
        "colab": {
          "base_uri": "https://localhost:8080/"
        },
        "id": "BpdjRO2CzOfZ",
        "outputId": "0a079b62-3f9c-42e9-995c-95239e777110"
      },
      "outputs": [
        {
          "output_type": "stream",
          "name": "stdout",
          "text": [
            "tf.Tensor(\n",
            "[b'\\n' b'P' b'h' b'\\xe1\\xba\\xad' b't' b' ' b'v' b'\\xc3\\xa0' b' '\n",
            " b'\\xc4\\x90' b'\\xe1\\xba\\xa1' b'o' b'\\n' b'T' b'\\xe1\\xbb\\x91' b'n' b'g'\n",
            " b' ' b'\\xc4\\x90' b'\\xe1\\xba\\xa1' b'i' b' ' b'N' b'h' b'\\xc3\\xa2' b'n'\n",
            " b' ' b'l' b'\\xe1\\xba\\xa7' b'n' b' ' b'\\xc4\\x91' b'\\xe1\\xba\\xa7' b'u' b' '\n",
            " b'l' b'\\xc3\\xa0' b'm' b' ' b't' b'h' b'\\xe1\\xba\\xa7' b'y' b' ' b't' b'h'\n",
            " b'\\xe1\\xba\\xa5' b'y' b' ' b'T' b'r' b'\\xc6\\xb0' b'\\xc6\\xa1' b'n' b'g'\n",
            " b' ' b'T' b'i' b'\\xe1\\xbb\\x83' b'u' b' ' b'P' b'h' b'\\xc3\\xa0' b'm' b' '\n",
            " b'h' b'a' b'i' b' ' b't' b'a' b'y' b' ' b'c' b'h' b'\\xe1\\xbb\\x91' b'n'\n",
            " b'g' b' ' b'm' b'\\xc3\\xa1' b' ' b'l' b'\\xe1\\xba\\xaf' b'n' b'g' b' ' b'n'\n",
            " b'g' b'h' b'e' b' ' b'c' b'h' b'\\xc4\\x83' b'm' b' ' b'c' b'h' b'\\xc3\\xba'], shape=(101,), dtype=string)\n"
          ]
        }
      ],
      "source": [
        "sequences = ids_dataset.batch(seq_length+1, drop_remainder=True)\n",
        "\n",
        "for seq in sequences.take(1):\n",
        "  print(chars_from_ids(seq))"
      ]
    },
    {
      "cell_type": "code",
      "execution_count": 14,
      "metadata": {
        "colab": {
          "base_uri": "https://localhost:8080/"
        },
        "id": "QO32cMWu4a06",
        "outputId": "e96cbcb6-9ae4-4b90-edd3-ccfe7e88d87b"
      },
      "outputs": [
        {
          "output_type": "stream",
          "name": "stdout",
          "text": [
            "b'\\nPh\\xe1\\xba\\xadt v\\xc3\\xa0 \\xc4\\x90\\xe1\\xba\\xa1o\\nT\\xe1\\xbb\\x91ng \\xc4\\x90\\xe1\\xba\\xa1i Nh\\xc3\\xa2n l\\xe1\\xba\\xa7n \\xc4\\x91\\xe1\\xba\\xa7u l\\xc3\\xa0m th\\xe1\\xba\\xa7y th\\xe1\\xba\\xa5y Tr\\xc6\\xb0\\xc6\\xa1ng Ti\\xe1\\xbb\\x83u Ph\\xc3\\xa0m hai tay ch\\xe1\\xbb\\x91ng m\\xc3\\xa1 l\\xe1\\xba\\xafng nghe ch\\xc4\\x83m ch\\xc3\\xba'\n",
            "b' b\\xe1\\xba\\xa5t gi\\xc3\\xa1c cao h\\xe1\\xbb\\xa9ng \\xc4\\x83n n\\xc3\\xb3i r\\xe1\\xba\\xa5t \\xc4\\x91\\xc4\\xa9nh \\xc4\\x91\\xe1\\xba\\xa1c\\nQu\\xc3\\xa1 tr\\xc3\\xacnh tu t\\xe1\\xba\\xadp Th\\xc3\\xa1i C\\xe1\\xbb\\xb1c Huy\\xe1\\xbb\\x81n Thanh \\xc4\\x90\\xe1\\xba\\xa1o l\\xc3\\xa0 t\\xe1\\xbb\\xab d\\xe1\\xbb\\x85 t\\xe1\\xbb\\x9bi kh\\xc3\\xb3 ph\\xe1\\xba\\xa7'\n",
            "b'n l\\xe1\\xbb\\x9bn m\\xe1\\xbb\\x8di ng\\xc6\\xb0\\xe1\\xbb\\x9di ngay n\\xc4\\x83m \\xc4\\x91\\xe1\\xba\\xa7u ti\\xc3\\xaan \\xc4\\x91\\xe1\\xbb\\x81u c\\xc3\\xb3 th\\xe1\\xbb\\x83 t\\xe1\\xbb\\xb1u th\\xc3\\xa0nh t\\xe1\\xba\\xa7ng th\\xe1\\xbb\\xa9 nh\\xe1\\xba\\xa5t c\\xe1\\xbb\\xa7a Ng\\xe1\\xbb\\x8dc Thanh C\\xe1\\xba\\xa3nh nh\\xc6\\xb0ng sau \\xc4\\x91\\xc3\\xb3'\n",
            "b' tr\\xe1\\xbb\\x9f \\xc4\\x91i b\\xe1\\xba\\xaft \\xc4\\x91\\xe1\\xba\\xa7u \\xc4\\x91\\xe1\\xbb\\xa5ng ph\\xe1\\xba\\xa3i nh\\xe1\\xbb\\xafng ch\\xe1\\xbb\\x97 th\\xc3\\xa2m thu\\xc3\\xbd kh\\xc3\\xb3 hi\\xe1\\xbb\\x83u; v\\xe1\\xbb\\x9bi t\\xe1\\xba\\xa7ng th\\xe1\\xbb\\xa9 hai ng\\xc6\\xb0\\xe1\\xbb\\x9di b\\xc3\\xacnh th\\xc6\\xb0\\xe1\\xbb\\x9dng ph\\xe1\\xba\\xa3i tu t\\xe1\\xba\\xad'\n",
            "b'p m\\xe1\\xba\\xa5t n\\xc4\\x83m n\\xc4\\x83m; t\\xe1\\xba\\xa7ng th\\xe1\\xbb\\xa9 ba l\\xe1\\xba\\xa1i c\\xc3\\xa0ng m\\xe1\\xbb\\x99t tr\\xe1\\xbb\\x9di m\\xe1\\xbb\\x99t v\\xe1\\xbb\\xb1c ng\\xc6\\xb0\\xe1\\xbb\\x9di n\\xc3\\xa0o t\\xc6\\xb0 ch\\xe1\\xba\\xa5t h\\xc6\\xa1i k\\xc3\\xa9m th\\xc3\\xac c\\xe1\\xba\\xa3 \\xc4\\x91\\xe1\\xbb\\x9di s\\xe1\\xba\\xbd d\\xe1\\xbb\\xabng m\\xc3\\xa3i'\n"
          ]
        }
      ],
      "source": [
        "for seq in sequences.take(5):\n",
        "  print(text_from_ids(seq).numpy())"
      ]
    },
    {
      "cell_type": "code",
      "execution_count": 15,
      "metadata": {
        "id": "9NGu-FkO_kYU"
      },
      "outputs": [],
      "source": [
        "def split_input_target(sequence):\n",
        "    input_text = sequence[:-1]\n",
        "    target_text = sequence[1:]\n",
        "    return input_text, target_text"
      ]
    },
    {
      "cell_type": "code",
      "execution_count": 16,
      "metadata": {
        "colab": {
          "base_uri": "https://localhost:8080/"
        },
        "id": "WxbDTJTw5u_P",
        "outputId": "12ea8bb7-e133-43ff-971b-af49e783376b"
      },
      "outputs": [
        {
          "output_type": "execute_result",
          "data": {
            "text/plain": [
              "(['T', 'e', 'n', 's', 'o', 'r', 'f', 'l', 'o'],\n",
              " ['e', 'n', 's', 'o', 'r', 'f', 'l', 'o', 'w'])"
            ]
          },
          "metadata": {},
          "execution_count": 16
        }
      ],
      "source": [
        "split_input_target(list(\"Tensorflow\"))"
      ]
    },
    {
      "cell_type": "code",
      "execution_count": 17,
      "metadata": {
        "id": "B9iKPXkw5xwa"
      },
      "outputs": [],
      "source": [
        "dataset = sequences.map(split_input_target)"
      ]
    },
    {
      "cell_type": "code",
      "execution_count": 18,
      "metadata": {
        "colab": {
          "base_uri": "https://localhost:8080/"
        },
        "id": "GNbw-iR0ymwj",
        "outputId": "edc2fa61-3f5a-4145-ff04-0bea433b1875"
      },
      "outputs": [
        {
          "output_type": "stream",
          "name": "stdout",
          "text": [
            "Input : b'\\nPh\\xe1\\xba\\xadt v\\xc3\\xa0 \\xc4\\x90\\xe1\\xba\\xa1o\\nT\\xe1\\xbb\\x91ng \\xc4\\x90\\xe1\\xba\\xa1i Nh\\xc3\\xa2n l\\xe1\\xba\\xa7n \\xc4\\x91\\xe1\\xba\\xa7u l\\xc3\\xa0m th\\xe1\\xba\\xa7y th\\xe1\\xba\\xa5y Tr\\xc6\\xb0\\xc6\\xa1ng Ti\\xe1\\xbb\\x83u Ph\\xc3\\xa0m hai tay ch\\xe1\\xbb\\x91ng m\\xc3\\xa1 l\\xe1\\xba\\xafng nghe ch\\xc4\\x83m ch'\n",
            "Target: b'Ph\\xe1\\xba\\xadt v\\xc3\\xa0 \\xc4\\x90\\xe1\\xba\\xa1o\\nT\\xe1\\xbb\\x91ng \\xc4\\x90\\xe1\\xba\\xa1i Nh\\xc3\\xa2n l\\xe1\\xba\\xa7n \\xc4\\x91\\xe1\\xba\\xa7u l\\xc3\\xa0m th\\xe1\\xba\\xa7y th\\xe1\\xba\\xa5y Tr\\xc6\\xb0\\xc6\\xa1ng Ti\\xe1\\xbb\\x83u Ph\\xc3\\xa0m hai tay ch\\xe1\\xbb\\x91ng m\\xc3\\xa1 l\\xe1\\xba\\xafng nghe ch\\xc4\\x83m ch\\xc3\\xba'\n"
          ]
        }
      ],
      "source": [
        "for input_example, target_example in dataset.take(1):\n",
        "    print(\"Input :\", text_from_ids(input_example).numpy())\n",
        "    print(\"Target:\", text_from_ids(target_example).numpy())"
      ]
    },
    {
      "cell_type": "markdown",
      "metadata": {
        "id": "MJdfPmdqzf-R"
      },
      "source": [
        "### Create training batches\n"
      ]
    },
    {
      "cell_type": "code",
      "execution_count": 19,
      "metadata": {
        "colab": {
          "base_uri": "https://localhost:8080/"
        },
        "id": "p2pGotuNzf-S",
        "outputId": "ef0c8370-6915-4512-9c30-4ca8244a0252"
      },
      "outputs": [
        {
          "output_type": "execute_result",
          "data": {
            "text/plain": [
              "<_PrefetchDataset element_spec=(TensorSpec(shape=(64, 100), dtype=tf.int64, name=None), TensorSpec(shape=(64, 100), dtype=tf.int64, name=None))>"
            ]
          },
          "metadata": {},
          "execution_count": 19
        }
      ],
      "source": [
        "# Batch size\n",
        "BATCH_SIZE = 64\n",
        "BUFFER_SIZE = 10000\n",
        "dataset = (\n",
        "    dataset\n",
        "    .shuffle(BUFFER_SIZE)\n",
        "    .batch(BATCH_SIZE, drop_remainder=True)\n",
        "    .prefetch(tf.data.experimental.AUTOTUNE))\n",
        "dataset"
      ]
    },
    {
      "cell_type": "markdown",
      "metadata": {
        "id": "r6oUuElIMgVx"
      },
      "source": [
        "## Build The Model"
      ]
    },
    {
      "cell_type": "code",
      "execution_count": 20,
      "metadata": {
        "id": "zHT8cLh7EAsg"
      },
      "outputs": [],
      "source": [
        "# Length of the vocabulary in StringLookup Layer\n",
        "vocab_size = len(ids_from_chars.get_vocabulary())\n",
        "# The embedding dimension\n",
        "embedding_dim = 256\n",
        "# Number of RNN units\n",
        "rnn_units = 1024"
      ]
    },
    {
      "cell_type": "code",
      "execution_count": 21,
      "metadata": {
        "id": "wj8HQ2w8z4iO"
      },
      "outputs": [],
      "source": [
        "class MyModel(tf.keras.Model):\n",
        "    def __init__(self, vocab_size, embedding_dim, rnn_units):\n",
        "        super().__init__()  # Correctly initialize the base class\n",
        "        self.embedding = tf.keras.layers.Embedding(vocab_size, embedding_dim)\n",
        "        self.gru = tf.keras.layers.GRU(rnn_units,\n",
        "                                       return_sequences=True,\n",
        "                                       return_state=True)\n",
        "        self.dense = tf.keras.layers.Dense(vocab_size)\n",
        "\n",
        "    def call(self, inputs, states=None, return_state=False, training=False):\n",
        "        x = self.embedding(inputs, training=training)  # Shape: (batch_size, sequence_length, embedding_dim)\n",
        "\n",
        "        if states is None:\n",
        "            batch_size = tf.shape(inputs)[0]  # Dynamically get the batch size\n",
        "            states = tf.zeros([batch_size, self.gru.units], dtype=tf.float32)  # Initialize GRU state\n",
        "\n",
        "        # GRU returns two values: outputs and state\n",
        "        x, states = self.gru(x, initial_state=states, training=training)\n",
        "\n",
        "        # Dense layer for final predictions\n",
        "        x = self.dense(x, training=training)\n",
        "\n",
        "        if return_state:\n",
        "            return x, states\n",
        "        else:\n",
        "            return x\n"
      ]
    },
    {
      "cell_type": "code",
      "execution_count": 22,
      "metadata": {
        "id": "IX58Xj9z47Aw"
      },
      "outputs": [],
      "source": [
        "model = MyModel(\n",
        "    vocab_size=vocab_size,\n",
        "    embedding_dim=embedding_dim,\n",
        "    rnn_units=rnn_units)"
      ]
    },
    {
      "cell_type": "markdown",
      "metadata": {
        "id": "-ubPo0_9Prjb"
      },
      "source": [
        "## Try the model\n"
      ]
    },
    {
      "cell_type": "code",
      "execution_count": 23,
      "metadata": {
        "colab": {
          "base_uri": "https://localhost:8080/"
        },
        "id": "C-_70kKAPrPU",
        "outputId": "ad5f3156-68e7-4f86-aeda-c1eadde7ec9c"
      },
      "outputs": [
        {
          "output_type": "stream",
          "name": "stdout",
          "text": [
            "Predictions shape: (64, 100, 357)\n"
          ]
        }
      ],
      "source": [
        "for input_example_batch, target_example_batch in dataset.take(1):\n",
        "    example_batch_predictions = model(input_example_batch)\n",
        "    print(\"Predictions shape:\", example_batch_predictions.shape)\n"
      ]
    },
    {
      "cell_type": "code",
      "execution_count": 24,
      "metadata": {
        "colab": {
          "base_uri": "https://localhost:8080/"
        },
        "id": "vPGmAAXmVLGC",
        "outputId": "a62bdb14-3554-49c8-d745-70f6437f8218"
      },
      "outputs": [
        {
          "output_type": "stream",
          "name": "stdout",
          "text": [
            "Model: \"my_model\"\n",
            "_________________________________________________________________\n",
            " Layer (type)                Output Shape              Param #   \n",
            "=================================================================\n",
            " embedding (Embedding)       multiple                  91392     \n",
            "                                                                 \n",
            " gru (GRU)                   multiple                  3938304   \n",
            "                                                                 \n",
            " dense (Dense)               multiple                  365925    \n",
            "                                                                 \n",
            "=================================================================\n",
            "Total params: 4395621 (16.77 MB)\n",
            "Trainable params: 4395621 (16.77 MB)\n",
            "Non-trainable params: 0 (0.00 Byte)\n",
            "_________________________________________________________________\n"
          ]
        }
      ],
      "source": [
        "model.summary()"
      ]
    },
    {
      "cell_type": "code",
      "execution_count": 25,
      "metadata": {
        "id": "4V4MfFg0RQJg"
      },
      "outputs": [],
      "source": [
        "sampled_indices = tf.random.categorical(example_batch_predictions[0], num_samples=1)\n",
        "sampled_indices = tf.squeeze(sampled_indices, axis=-1).numpy()"
      ]
    },
    {
      "cell_type": "code",
      "execution_count": 26,
      "metadata": {
        "colab": {
          "base_uri": "https://localhost:8080/"
        },
        "id": "YqFMUQc_UFgM",
        "outputId": "0c3483be-9af4-4658-911e-725330d5aab4"
      },
      "outputs": [
        {
          "output_type": "execute_result",
          "data": {
            "text/plain": [
              "array([ 35, 261, 213, 342, 213, 105, 131,  10,  43,  20, 302,  17, 141,\n",
              "       259, 135, 116,  32, 278, 100, 307, 228, 231, 208,  44, 273,  30,\n",
              "       207, 215, 111, 339,  46, 308,  23, 212, 136,  88, 257,  10, 247,\n",
              "        80, 310,  60,  45,  11, 196, 147, 132, 303, 144, 116, 108,  53,\n",
              "        70,  65, 233, 176, 171, 108,  30, 222, 129, 125, 176, 254, 134,\n",
              "       346, 197,  40, 288, 114, 169,   8,  40,  94, 243, 241,  45, 212,\n",
              "       345, 298, 293, 154, 256, 267,  51, 136, 298, 168, 290, 326, 150,\n",
              "       308, 292, 227,  91, 333, 249,  30, 263, 111])"
            ]
          },
          "metadata": {},
          "execution_count": 26
        }
      ],
      "source": [
        "sampled_indices"
      ]
    },
    {
      "cell_type": "markdown",
      "metadata": {
        "id": "LfLtsP3mUhCG"
      },
      "source": [
        "Decode these to see the text predicted by this untrained model:"
      ]
    },
    {
      "cell_type": "code",
      "execution_count": 27,
      "metadata": {
        "colab": {
          "base_uri": "https://localhost:8080/"
        },
        "id": "xWcFwPwLSo05",
        "outputId": "0f21c2e8-00c7-489f-cd3c-089810b8a020"
      },
      "outputs": [
        {
          "output_type": "stream",
          "name": "stdout",
          "text": [
            "Input:\n",
            " b' l\\xc3\\xbd tr\\xc3\\xad b\\xe1\\xba\\xa5t ch\\xe1\\xba\\xa5p s\\xe1\\xbb\\x91ng ch\\xe1\\xba\\xbft m\\xc3\\xa0 lao v\\xc3\\xa0o t\\xe1\\xba\\xa5n c\\xc3\\xb4ng n\\xc3\\xa0ng khi\\xe1\\xba\\xbfn s\\xc3\\xa1t c\\xc6\\xa1 c\\xe1\\xbb\\xa7a n\\xc3\\xa0ng n\\xe1\\xbb\\x95i l\\xc3\\xaan cho d\\xc3\\xb9 kh\\xc3\\xb4ng th\\xe1\\xbb\\x83 l'\n",
            "\n",
            "Next Char Predictions:\n",
            " b'W\\xe5\\x8d\\xb0\\xe1\\xbb\\xab\\xe9\\x81\\x93\\xe1\\xbb\\xab\\xc3\\xa3\\xc5\\xa9;_H\\xe6\\xb1\\x9fE\\xd9\\xad\\xe5\\x8d\\x90\\xc6\\xaf\\xc3\\xb3T\\xe5\\xb4\\x96\\xc3\\x9a\\xe6\\xb3\\xbd\\xe2\\x80\\x94\\xe2\\x80\\x9c\\xe1\\xbb\\xa6`\\xe5\\xa5\\x98R\\xe1\\xbb\\xa5\\xe1\\xbb\\xad\\xc3\\xac\\xe8\\xb3\\xadb\\xe6\\xb5\\x81K\\xe1\\xbb\\xaa\\xc6\\xb0\\xc3\\x88\\xe5\\x8c\\x97;\\xe4\\xbb\\x80\\xc2\\xb0\\xe6\\xb9\\x96pa=\\xe1\\xbb\\x9a\\xe1\\xba\\xa5\\xc5\\xab\\xe6\\xb2\\x99\\xe1\\xba\\xa2\\xc3\\xb3\\xc3\\xa8izu\\xe2\\x80\\x9e\\xe1\\xbb\\x86\\xe1\\xbb\\x81\\xc3\\xa8R\\xe1\\xbb\\xb5\\xc4\\xa9\\xc4\\x83\\xe1\\xbb\\x86\\xe5\\x88\\x88\\xc6\\xa1\\xe9\\x9b\\x9e\\xe1\\xbb\\x9b\\\\\\xe6\\x94\\xaf\\xc3\\xb1\\xe1\\xba\\xbf+\\\\\\xc3\\x90\\xe4\\xb9\\x8b\\xe4\\xb8\\xada\\xe1\\xbb\\xaa\\xe9\\x99\\xb5\\xe6\\xa8\\x93\\xe6\\x9c\\x88\\xe1\\xba\\xac\\xe5\\x89\\x8d\\xe5\\x90\\x8dg\\xc6\\xb0\\xe6\\xa8\\x93\\xe1\\xba\\xbe\\xe6\\x9b\\xb0\\xe8\\x80\\x8c\\xe1\\xba\\xa8\\xe6\\xb5\\x81\\xe6\\x9b\\xb9\\xe2\\x80\\x93\\xc3\\x8c\\xe8\\x90\\xac\\xe4\\xbd\\x9bR\\xe5\\x8f\\x94\\xc3\\xac'\n"
          ]
        }
      ],
      "source": [
        "print(\"Input:\\n\", text_from_ids(input_example_batch[0]).numpy())\n",
        "print()\n",
        "print(\"Next Char Predictions:\\n\", text_from_ids(sampled_indices).numpy())"
      ]
    },
    {
      "cell_type": "markdown",
      "metadata": {
        "id": "LJL0Q0YPY6Ee"
      },
      "source": [
        "## Train the model"
      ]
    },
    {
      "cell_type": "markdown",
      "metadata": {
        "id": "trpqTWyvk0nr"
      },
      "source": [
        "### Attach an optimizer, and a loss function"
      ]
    },
    {
      "cell_type": "code",
      "execution_count": 28,
      "metadata": {
        "id": "ZOeWdgxNFDXq"
      },
      "outputs": [],
      "source": [
        "loss = tf.losses.SparseCategoricalCrossentropy(from_logits=True)"
      ]
    },
    {
      "cell_type": "code",
      "execution_count": 29,
      "metadata": {
        "colab": {
          "base_uri": "https://localhost:8080/"
        },
        "id": "4HrXTACTdzY-",
        "outputId": "c13cfa72-accd-45a8-b2be-cfc8dc7d3e44"
      },
      "outputs": [
        {
          "output_type": "stream",
          "name": "stdout",
          "text": [
            "Prediction shape:  (64, 100, 357)  # (batch_size, sequence_length, vocab_size)\n",
            "Mean loss:         tf.Tensor(5.8797264, shape=(), dtype=float32)\n"
          ]
        }
      ],
      "source": [
        "example_batch_mean_loss = loss(target_example_batch, example_batch_predictions)\n",
        "print(\"Prediction shape: \", example_batch_predictions.shape, \" # (batch_size, sequence_length, vocab_size)\")\n",
        "print(\"Mean loss:        \", example_batch_mean_loss)"
      ]
    },
    {
      "cell_type": "code",
      "execution_count": 30,
      "metadata": {
        "colab": {
          "base_uri": "https://localhost:8080/"
        },
        "id": "MAJfS5YoFiHf",
        "outputId": "b68b4fd9-0612-4c44-acaa-675d7718cb96"
      },
      "outputs": [
        {
          "output_type": "execute_result",
          "data": {
            "text/plain": [
              "357.71136"
            ]
          },
          "metadata": {},
          "execution_count": 30
        }
      ],
      "source": [
        "tf.exp(example_batch_mean_loss).numpy()"
      ]
    },
    {
      "cell_type": "markdown",
      "metadata": {
        "id": "jeOXriLcymww"
      },
      "source": [
        "Configure the training procedure using the `tf.keras.Model.compile` method. Use `tf.keras.optimizers.Adam` with default arguments and the loss function."
      ]
    },
    {
      "cell_type": "code",
      "execution_count": 31,
      "metadata": {
        "id": "DDl1_Een6rL0"
      },
      "outputs": [],
      "source": [
        "model.compile(optimizer='adam', loss=loss)"
      ]
    },
    {
      "cell_type": "markdown",
      "metadata": {
        "id": "ieSJdchZggUj"
      },
      "source": [
        "### Configure checkpoints"
      ]
    },
    {
      "cell_type": "markdown",
      "metadata": {
        "id": "C6XBUUavgF56"
      },
      "source": [
        "Use a `tf.keras.callbacks.ModelCheckpoint` to ensure that checkpoints are saved during training:"
      ]
    },
    {
      "cell_type": "code",
      "execution_count": 32,
      "metadata": {
        "id": "W6fWTriUZP-n"
      },
      "outputs": [],
      "source": [
        "import os\n",
        "import tensorflow as tf\n",
        "\n",
        "# Directory where the checkpoints will be saved\n",
        "checkpoint_dir = './training_checkpoints'\n",
        "os.makedirs(checkpoint_dir, exist_ok=True)  # Ensure the directory exists\n",
        "\n",
        "# Name of the checkpoint files (include the required extension)\n",
        "checkpoint_prefix = os.path.join(checkpoint_dir, \"ckpt_{epoch}.weights.h5\")\n",
        "\n",
        "# Define the ModelCheckpoint callback\n",
        "checkpoint_callback = tf.keras.callbacks.ModelCheckpoint(\n",
        "    filepath=checkpoint_prefix,\n",
        "    save_weights_only=True\n",
        ")\n"
      ]
    },
    {
      "cell_type": "markdown",
      "metadata": {
        "id": "3Ky3F_BhgkTW"
      },
      "source": [
        "### Execute the training"
      ]
    },
    {
      "cell_type": "code",
      "execution_count": 33,
      "metadata": {
        "id": "7yGBE2zxMMHs"
      },
      "outputs": [],
      "source": [
        "EPOCHS = 50"
      ]
    },
    {
      "cell_type": "code",
      "execution_count": null,
      "metadata": {
        "colab": {
          "base_uri": "https://localhost:8080/"
        },
        "id": "UK-hmKjYVoll",
        "outputId": "627b7171-8b56-4c1e-d74e-2a7ac47263d7"
      },
      "outputs": [
        {
          "output_type": "stream",
          "name": "stdout",
          "text": [
            "Epoch 1/50\n",
            " 118/4035 [..............................] - ETA: 9:53:41 - loss: 3.1692"
          ]
        }
      ],
      "source": [
        "history = model.fit(dataset, epochs=EPOCHS, callbacks=[checkpoint_callback])"
      ]
    },
    {
      "cell_type": "code",
      "source": [
        "# prompt: lưu mô hình đã train\n",
        "\n",
        "# Load the latest checkpoint\n",
        "latest_checkpoint = tf.train.latest_checkpoint(checkpoint_dir)\n",
        "\n",
        "# Create a new model instance\n",
        "new_model = MyModel(vocab_size=vocab_size, embedding_dim=embedding_dim, rnn_units=rnn_units)\n",
        "\n",
        "# Load the weights from the checkpoint\n",
        "new_model.load_weights(latest_checkpoint)\n",
        "\n",
        "# Save the entire model\n",
        "new_model.save('my_model')"
      ],
      "metadata": {
        "id": "gp0g2orzh-oX"
      },
      "execution_count": null,
      "outputs": []
    },
    {
      "cell_type": "markdown",
      "metadata": {
        "id": "kKkD5M6eoSiN"
      },
      "source": [
        "## Generate text"
      ]
    },
    {
      "cell_type": "code",
      "source": [],
      "metadata": {
        "id": "6MIDJCmKhyj-"
      },
      "execution_count": null,
      "outputs": []
    },
    {
      "cell_type": "markdown",
      "metadata": {
        "id": "DjGz1tDkzf-u"
      },
      "source": [
        "The following makes a single step prediction:"
      ]
    },
    {
      "cell_type": "code",
      "execution_count": null,
      "metadata": {
        "id": "iSBU1tHmlUSs"
      },
      "outputs": [],
      "source": [
        "class OneStep(tf.keras.Model):\n",
        "  def __init__(self, model, chars_from_ids, ids_from_chars, temperature=1.0):\n",
        "    super().__init__()\n",
        "    self.temperature = temperature\n",
        "    self.model = model\n",
        "    self.chars_from_ids = chars_from_ids\n",
        "    self.ids_from_chars = ids_from_chars\n",
        "\n",
        "    # Create a mask to prevent \"[UNK]\" from being generated.\n",
        "    skip_ids = self.ids_from_chars(['[UNK]'])[:, None]\n",
        "    sparse_mask = tf.SparseTensor(\n",
        "        # Put a -inf at each bad index.\n",
        "        values=[-float('inf')]*len(skip_ids),\n",
        "        indices=skip_ids,\n",
        "        # Match the shape to the vocabulary\n",
        "        dense_shape=[len(ids_from_chars.get_vocabulary())])\n",
        "    self.prediction_mask = tf.sparse.to_dense(sparse_mask)\n",
        "\n",
        "  @tf.function\n",
        "  def generate_one_step(self, inputs, states=None):\n",
        "    # Convert strings to token IDs.\n",
        "    input_chars = tf.strings.unicode_split(inputs, 'UTF-8')\n",
        "    input_ids = self.ids_from_chars(input_chars).to_tensor()\n",
        "\n",
        "    # Run the model.\n",
        "    # predicted_logits.shape is [batch, char, next_char_logits]\n",
        "    predicted_logits, states = self.model(inputs=input_ids, states=states,\n",
        "                                          return_state=True)\n",
        "    # Only use the last prediction.\n",
        "    predicted_logits = predicted_logits[:, -1, :]\n",
        "    predicted_logits = predicted_logits/self.temperature\n",
        "    # Apply the prediction mask: prevent \"[UNK]\" from being generated.\n",
        "    predicted_logits = predicted_logits + self.prediction_mask\n",
        "\n",
        "    # Sample the output logits to generate token IDs.\n",
        "    predicted_ids = tf.random.categorical(predicted_logits, num_samples=1)\n",
        "    predicted_ids = tf.squeeze(predicted_ids, axis=-1)\n",
        "\n",
        "    # Convert from token ids to characters\n",
        "    predicted_chars = self.chars_from_ids(predicted_ids)\n",
        "\n",
        "    # Return the characters and model state.\n",
        "    return predicted_chars, states"
      ]
    },
    {
      "cell_type": "code",
      "execution_count": null,
      "metadata": {
        "id": "fqMOuDutnOxK"
      },
      "outputs": [],
      "source": [
        "one_step_model = OneStep(model, chars_from_ids, ids_from_chars)"
      ]
    },
    {
      "cell_type": "markdown",
      "metadata": {
        "id": "p9yDoa0G3IgQ"
      },
      "source": [
        "Run it in a loop to generate some text. Looking at the generated text, you'll see the model knows when to capitalize, make paragraphs and imitates a Shakespeare-like writing vocabulary. With the small number of training epochs, it has not yet learned to form coherent sentences."
      ]
    },
    {
      "cell_type": "code",
      "execution_count": null,
      "metadata": {
        "id": "ST7PSyk9t1mT"
      },
      "outputs": [],
      "source": [
        "start = time.time()\n",
        "states = None\n",
        "next_char = tf.constant(['Khánh Tường'])\n",
        "result = [next_char]\n",
        "\n",
        "phrase_count = 0\n",
        "while phrase_count <= 30:\n",
        "    next_char, states = one_step_model.generate_one_step(next_char, states=states)\n",
        "    result.append(next_char)\n",
        "    next_char_str = tf.strings.reduce_join(next_char, axis=-1).numpy().decode('utf-8')\n",
        "    if next_char_str == '\\n':\n",
        "        phrase_count += 1\n",
        "\n",
        "result = tf.strings.join(result)\n",
        "end = time.time()\n",
        "print(result[0].numpy().decode('utf-8'), '\\n\\n' + '_'*80)\n",
        "print('\\nRun time:', end - start)"
      ]
    },
    {
      "cell_type": "code",
      "execution_count": null,
      "metadata": {
        "id": "muonK6mbFJPX"
      },
      "outputs": [],
      "source": []
    }
  ],
  "metadata": {
    "colab": {
      "provenance": [],
      "gpuType": "V28",
      "include_colab_link": true
    },
    "kernelspec": {
      "display_name": "Python 3",
      "name": "python3"
    },
    "language_info": {
      "codemirror_mode": {
        "name": "ipython",
        "version": 3
      },
      "file_extension": ".py",
      "mimetype": "text/x-python",
      "name": "python",
      "nbconvert_exporter": "python",
      "pygments_lexer": "ipython3",
      "version": "3.11.5"
    },
    "accelerator": "TPU"
  },
  "nbformat": 4,
  "nbformat_minor": 0
}